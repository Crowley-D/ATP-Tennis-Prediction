{
 "cells": [
  {
   "cell_type": "markdown",
   "id": "391e120f",
   "metadata": {},
   "source": [
    "# ATP Players Initial Dataset Cleaning"
   ]
  },
  {
   "cell_type": "code",
   "execution_count": null,
   "id": "0a594d3e",
   "metadata": {},
   "outputs": [
    {
     "data": {
      "text/html": [
       "<div>\n",
       "<style scoped>\n",
       "    .dataframe tbody tr th:only-of-type {\n",
       "        vertical-align: middle;\n",
       "    }\n",
       "\n",
       "    .dataframe tbody tr th {\n",
       "        vertical-align: top;\n",
       "    }\n",
       "\n",
       "    .dataframe thead th {\n",
       "        text-align: right;\n",
       "    }\n",
       "</style>\n",
       "<table border=\"1\" class=\"dataframe\">\n",
       "  <thead>\n",
       "    <tr style=\"text-align: right;\">\n",
       "      <th></th>\n",
       "      <th>player_id</th>\n",
       "      <th>player_name</th>\n",
       "      <th>hand</th>\n",
       "      <th>dob</th>\n",
       "      <th>height</th>\n",
       "      <th>source_name</th>\n",
       "    </tr>\n",
       "  </thead>\n",
       "  <tbody>\n",
       "    <tr>\n",
       "      <th>0</th>\n",
       "      <td>116971</td>\n",
       "      <td>?? Baillie</td>\n",
       "      <td>U</td>\n",
       "      <td>NaN</td>\n",
       "      <td>NaN</td>\n",
       "      <td>0</td>\n",
       "    </tr>\n",
       "    <tr>\n",
       "      <th>1</th>\n",
       "      <td>204608</td>\n",
       "      <td>A Aguilar</td>\n",
       "      <td>R</td>\n",
       "      <td>NaN</td>\n",
       "      <td>NaN</td>\n",
       "      <td>0</td>\n",
       "    </tr>\n",
       "    <tr>\n",
       "      <th>2</th>\n",
       "      <td>152006</td>\n",
       "      <td>A Alexander</td>\n",
       "      <td>U</td>\n",
       "      <td>NaN</td>\n",
       "      <td>NaN</td>\n",
       "      <td>0</td>\n",
       "    </tr>\n",
       "    <tr>\n",
       "      <th>3</th>\n",
       "      <td>151280</td>\n",
       "      <td>A Allendorfer</td>\n",
       "      <td>U</td>\n",
       "      <td>NaN</td>\n",
       "      <td>NaN</td>\n",
       "      <td>0</td>\n",
       "    </tr>\n",
       "    <tr>\n",
       "      <th>4</th>\n",
       "      <td>202778</td>\n",
       "      <td>A Alvarez</td>\n",
       "      <td>U</td>\n",
       "      <td>NaN</td>\n",
       "      <td>NaN</td>\n",
       "      <td>0</td>\n",
       "    </tr>\n",
       "  </tbody>\n",
       "</table>\n",
       "</div>"
      ],
      "text/plain": [
       "   player_id    player_name hand  dob  height  source_name\n",
       "0     116971     ?? Baillie    U  NaN     NaN            0\n",
       "1     204608      A Aguilar    R  NaN     NaN            0\n",
       "2     152006    A Alexander    U  NaN     NaN            0\n",
       "3     151280  A Allendorfer    U  NaN     NaN            0\n",
       "4     202778      A Alvarez    U  NaN     NaN            0"
      ]
     },
     "execution_count": 8,
     "metadata": {},
     "output_type": "execute_result"
    }
   ],
   "source": [
    "%matplotlib inline\n",
    "import os\n",
    "import pandas as pd\n",
    "import numpy as np\n",
    "pd.set_option('display.max_columns', None)\n",
    "pd.set_option('display.max_colwidth', None)\n",
    "from collections import defaultdict\n",
    "import re\n",
    "import warnings\n",
    "\n",
    "atp_players = pd.read_csv('./data/Players/atp_players.csv')\n",
    "atp_players.head()"
   ]
  },
  {
   "cell_type": "code",
   "execution_count": 9,
   "id": "709e620b",
   "metadata": {},
   "outputs": [],
   "source": [
    "#Jeff Sackmann ATP Datasets\n",
    "jeff_data = pd.DataFrame()\n",
    "for year in range(1991, 2025):\n",
    "    file = \"./data/all/atp_matches_\"+str(year)+\".csv\"\n",
    "    \n",
    "    year_data = pd.read_csv(file)\n",
    "\n",
    "    jeff_data = pd.concat([jeff_data, year_data], axis=0)\n",
    "    \n",
    "jeff_data['tourney_date'] = pd.to_datetime(jeff_data['tourney_date'], format='%Y%m%d')"
   ]
  },
  {
   "cell_type": "markdown",
   "id": "e2e47ec3",
   "metadata": {},
   "source": [
    "### Remove irrelevant Players"
   ]
  },
  {
   "cell_type": "code",
   "execution_count": 10,
   "id": "dd8c1904",
   "metadata": {},
   "outputs": [
    {
     "name": "stdout",
     "output_type": "stream",
     "text": [
      "Players in atp_players not found in jeff_data: 62420\n"
     ]
    },
    {
     "data": {
      "text/html": [
       "<div>\n",
       "<style scoped>\n",
       "    .dataframe tbody tr th:only-of-type {\n",
       "        vertical-align: middle;\n",
       "    }\n",
       "\n",
       "    .dataframe tbody tr th {\n",
       "        vertical-align: top;\n",
       "    }\n",
       "\n",
       "    .dataframe thead th {\n",
       "        text-align: right;\n",
       "    }\n",
       "</style>\n",
       "<table border=\"1\" class=\"dataframe\">\n",
       "  <thead>\n",
       "    <tr style=\"text-align: right;\">\n",
       "      <th></th>\n",
       "      <th>player_id</th>\n",
       "      <th>player_name</th>\n",
       "      <th>hand</th>\n",
       "      <th>dob</th>\n",
       "      <th>height</th>\n",
       "      <th>source_name</th>\n",
       "    </tr>\n",
       "  </thead>\n",
       "  <tbody>\n",
       "    <tr>\n",
       "      <th>0</th>\n",
       "      <td>116971</td>\n",
       "      <td>?? Baillie</td>\n",
       "      <td>U</td>\n",
       "      <td>NaN</td>\n",
       "      <td>NaN</td>\n",
       "      <td>0</td>\n",
       "    </tr>\n",
       "    <tr>\n",
       "      <th>1</th>\n",
       "      <td>204608</td>\n",
       "      <td>A Aguilar</td>\n",
       "      <td>R</td>\n",
       "      <td>NaN</td>\n",
       "      <td>NaN</td>\n",
       "      <td>0</td>\n",
       "    </tr>\n",
       "    <tr>\n",
       "      <th>2</th>\n",
       "      <td>152006</td>\n",
       "      <td>A Alexander</td>\n",
       "      <td>U</td>\n",
       "      <td>NaN</td>\n",
       "      <td>NaN</td>\n",
       "      <td>0</td>\n",
       "    </tr>\n",
       "    <tr>\n",
       "      <th>3</th>\n",
       "      <td>151280</td>\n",
       "      <td>A Allendorfer</td>\n",
       "      <td>U</td>\n",
       "      <td>NaN</td>\n",
       "      <td>NaN</td>\n",
       "      <td>0</td>\n",
       "    </tr>\n",
       "    <tr>\n",
       "      <th>4</th>\n",
       "      <td>202778</td>\n",
       "      <td>A Alvarez</td>\n",
       "      <td>U</td>\n",
       "      <td>NaN</td>\n",
       "      <td>NaN</td>\n",
       "      <td>0</td>\n",
       "    </tr>\n",
       "  </tbody>\n",
       "</table>\n",
       "</div>"
      ],
      "text/plain": [
       "   player_id    player_name hand  dob  height  source_name\n",
       "0     116971     ?? Baillie    U  NaN     NaN            0\n",
       "1     204608      A Aguilar    R  NaN     NaN            0\n",
       "2     152006    A Alexander    U  NaN     NaN            0\n",
       "3     151280  A Allendorfer    U  NaN     NaN            0\n",
       "4     202778      A Alvarez    U  NaN     NaN            0"
      ]
     },
     "execution_count": 10,
     "metadata": {},
     "output_type": "execute_result"
    }
   ],
   "source": [
    "# Find players in atp_players that don't appear in jeff_data\n",
    "jeff_player_ids = pd.concat([jeff_data['winner_id'], jeff_data['loser_id']]).dropna().astype(int).unique()\n",
    "atp_player_ids = atp_players['player_id'].dropna().astype(int)\n",
    "\n",
    "players_not_in_jeff = atp_players[~atp_player_ids.isin(jeff_player_ids)]\n",
    "\n",
    "print(f\"Players in atp_players not found in jeff_data: {len(players_not_in_jeff)}\")\n",
    "players_not_in_jeff.head()"
   ]
  },
  {
   "cell_type": "code",
   "execution_count": 11,
   "id": "720c1c4f",
   "metadata": {},
   "outputs": [
    {
     "name": "stdout",
     "output_type": "stream",
     "text": [
      "Remaining players in atp_players: 3562\n"
     ]
    },
    {
     "data": {
      "text/html": [
       "<div>\n",
       "<style scoped>\n",
       "    .dataframe tbody tr th:only-of-type {\n",
       "        vertical-align: middle;\n",
       "    }\n",
       "\n",
       "    .dataframe tbody tr th {\n",
       "        vertical-align: top;\n",
       "    }\n",
       "\n",
       "    .dataframe thead th {\n",
       "        text-align: right;\n",
       "    }\n",
       "</style>\n",
       "<table border=\"1\" class=\"dataframe\">\n",
       "  <thead>\n",
       "    <tr style=\"text-align: right;\">\n",
       "      <th></th>\n",
       "      <th>player_id</th>\n",
       "      <th>player_name</th>\n",
       "      <th>hand</th>\n",
       "      <th>dob</th>\n",
       "      <th>height</th>\n",
       "      <th>source_name</th>\n",
       "    </tr>\n",
       "  </thead>\n",
       "  <tbody>\n",
       "    <tr>\n",
       "      <th>457</th>\n",
       "      <td>101381</td>\n",
       "      <td>Aaron Krickstein</td>\n",
       "      <td>R</td>\n",
       "      <td>19670802.0</td>\n",
       "      <td>183.0</td>\n",
       "      <td>0</td>\n",
       "    </tr>\n",
       "    <tr>\n",
       "      <th>504</th>\n",
       "      <td>108961</td>\n",
       "      <td>Abd Hazli Bin Zainuddin</td>\n",
       "      <td>R</td>\n",
       "      <td>19801104.0</td>\n",
       "      <td>NaN</td>\n",
       "      <td>0</td>\n",
       "    </tr>\n",
       "    <tr>\n",
       "      <th>524</th>\n",
       "      <td>102033</td>\n",
       "      <td>Abdelhak Hameurlaine</td>\n",
       "      <td>R</td>\n",
       "      <td>19720319.0</td>\n",
       "      <td>NaN</td>\n",
       "      <td>0</td>\n",
       "    </tr>\n",
       "    <tr>\n",
       "      <th>548</th>\n",
       "      <td>104464</td>\n",
       "      <td>Abdul Mumin Babalola</td>\n",
       "      <td>L</td>\n",
       "      <td>19841215.0</td>\n",
       "      <td>NaN</td>\n",
       "      <td>0</td>\n",
       "    </tr>\n",
       "    <tr>\n",
       "      <th>556</th>\n",
       "      <td>102778</td>\n",
       "      <td>Abdul Hamid Makhkamov</td>\n",
       "      <td>R</td>\n",
       "      <td>19760419.0</td>\n",
       "      <td>NaN</td>\n",
       "      <td>0</td>\n",
       "    </tr>\n",
       "  </tbody>\n",
       "</table>\n",
       "</div>"
      ],
      "text/plain": [
       "     player_id              player_name hand         dob  height  source_name\n",
       "457     101381         Aaron Krickstein    R  19670802.0   183.0            0\n",
       "504     108961  Abd Hazli Bin Zainuddin    R  19801104.0     NaN            0\n",
       "524     102033     Abdelhak Hameurlaine    R  19720319.0     NaN            0\n",
       "548     104464     Abdul Mumin Babalola    L  19841215.0     NaN            0\n",
       "556     102778    Abdul Hamid Makhkamov    R  19760419.0     NaN            0"
      ]
     },
     "execution_count": 11,
     "metadata": {},
     "output_type": "execute_result"
    }
   ],
   "source": [
    "# Drop players not found in jeff_data\n",
    "atp_players = atp_players[atp_players['player_id'].astype(int).isin(jeff_player_ids)]\n",
    "\n",
    "print(f\"Remaining players in atp_players: {len(atp_players)}\")\n",
    "atp_players.head()"
   ]
  },
  {
   "cell_type": "markdown",
   "id": "c740ddb9",
   "metadata": {},
   "source": [
    "### Amend Data Quality Issues\n",
    "1. Null Names"
   ]
  },
  {
   "cell_type": "code",
   "execution_count": 12,
   "id": "f9fa092b",
   "metadata": {},
   "outputs": [
    {
     "name": "stdout",
     "output_type": "stream",
     "text": [
      "0\n"
     ]
    },
    {
     "data": {
      "text/html": [
       "<div>\n",
       "<style scoped>\n",
       "    .dataframe tbody tr th:only-of-type {\n",
       "        vertical-align: middle;\n",
       "    }\n",
       "\n",
       "    .dataframe tbody tr th {\n",
       "        vertical-align: top;\n",
       "    }\n",
       "\n",
       "    .dataframe thead th {\n",
       "        text-align: right;\n",
       "    }\n",
       "</style>\n",
       "<table border=\"1\" class=\"dataframe\">\n",
       "  <thead>\n",
       "    <tr style=\"text-align: right;\">\n",
       "      <th></th>\n",
       "      <th>player_id</th>\n",
       "      <th>player_name</th>\n",
       "      <th>hand</th>\n",
       "      <th>dob</th>\n",
       "      <th>height</th>\n",
       "      <th>source_name</th>\n",
       "    </tr>\n",
       "  </thead>\n",
       "  <tbody>\n",
       "  </tbody>\n",
       "</table>\n",
       "</div>"
      ],
      "text/plain": [
       "Empty DataFrame\n",
       "Columns: [player_id, player_name, hand, dob, height, source_name]\n",
       "Index: []"
      ]
     },
     "execution_count": 12,
     "metadata": {},
     "output_type": "execute_result"
    }
   ],
   "source": [
    "atp_players = atp_players.replace(r'^\\s*$', np.nan, regex=True)\n",
    "empty_names = atp_players.loc[atp_players['player_name'].isna()]\n",
    "print(len(empty_names))\n",
    "empty_names.head()"
   ]
  },
  {
   "cell_type": "markdown",
   "id": "58a1e5d5",
   "metadata": {},
   "source": [
    "2. Duplicate Names"
   ]
  },
  {
   "cell_type": "code",
   "execution_count": 13,
   "id": "ae3393eb",
   "metadata": {},
   "outputs": [
    {
     "name": "stdout",
     "output_type": "stream",
     "text": [
      "1\n"
     ]
    },
    {
     "data": {
      "text/html": [
       "<div>\n",
       "<style scoped>\n",
       "    .dataframe tbody tr th:only-of-type {\n",
       "        vertical-align: middle;\n",
       "    }\n",
       "\n",
       "    .dataframe tbody tr th {\n",
       "        vertical-align: top;\n",
       "    }\n",
       "\n",
       "    .dataframe thead th {\n",
       "        text-align: right;\n",
       "    }\n",
       "</style>\n",
       "<table border=\"1\" class=\"dataframe\">\n",
       "  <thead>\n",
       "    <tr style=\"text-align: right;\">\n",
       "      <th></th>\n",
       "      <th>player_id</th>\n",
       "      <th>player_name</th>\n",
       "      <th>hand</th>\n",
       "      <th>dob</th>\n",
       "      <th>height</th>\n",
       "      <th>source_name</th>\n",
       "    </tr>\n",
       "  </thead>\n",
       "  <tbody>\n",
       "    <tr>\n",
       "      <th>23763</th>\n",
       "      <td>211326</td>\n",
       "      <td>Gunawan Trismuwantara</td>\n",
       "      <td>U</td>\n",
       "      <td>20030109.0</td>\n",
       "      <td>NaN</td>\n",
       "      <td>0</td>\n",
       "    </tr>\n",
       "  </tbody>\n",
       "</table>\n",
       "</div>"
      ],
      "text/plain": [
       "       player_id            player_name hand         dob  height  source_name\n",
       "23763     211326  Gunawan Trismuwantara    U  20030109.0     NaN            0"
      ]
     },
     "execution_count": 13,
     "metadata": {},
     "output_type": "execute_result"
    }
   ],
   "source": [
    "names_duplicate = atp_players[atp_players.duplicated(['player_name'])]\n",
    "names_duplicate = names_duplicate.sort_values(by=['player_name'])\n",
    "print(len(names_duplicate))\n",
    "names_duplicate.head()"
   ]
  },
  {
   "cell_type": "code",
   "execution_count": 18,
   "id": "1559658c",
   "metadata": {},
   "outputs": [],
   "source": [
    "atp_players = atp_players[atp_players['player_id'] != 209870]"
   ]
  },
  {
   "cell_type": "markdown",
   "id": "ddf886c9",
   "metadata": {},
   "source": [
    "3. Irregular Names"
   ]
  },
  {
   "cell_type": "code",
   "execution_count": 22,
   "id": "mpa3ibt7p9o",
   "metadata": {},
   "outputs": [
    {
     "name": "stdout",
     "output_type": "stream",
     "text": [
      "Players with irregular names: 0\n"
     ]
    },
    {
     "data": {
      "text/html": [
       "<div>\n",
       "<style scoped>\n",
       "    .dataframe tbody tr th:only-of-type {\n",
       "        vertical-align: middle;\n",
       "    }\n",
       "\n",
       "    .dataframe tbody tr th {\n",
       "        vertical-align: top;\n",
       "    }\n",
       "\n",
       "    .dataframe thead th {\n",
       "        text-align: right;\n",
       "    }\n",
       "</style>\n",
       "<table border=\"1\" class=\"dataframe\">\n",
       "  <thead>\n",
       "    <tr style=\"text-align: right;\">\n",
       "      <th></th>\n",
       "      <th>player_id</th>\n",
       "      <th>player_name</th>\n",
       "      <th>hand</th>\n",
       "      <th>dob</th>\n",
       "      <th>height</th>\n",
       "      <th>source_name</th>\n",
       "    </tr>\n",
       "  </thead>\n",
       "  <tbody>\n",
       "  </tbody>\n",
       "</table>\n",
       "</div>"
      ],
      "text/plain": [
       "Empty DataFrame\n",
       "Columns: [player_id, player_name, hand, dob, height, source_name]\n",
       "Index: []"
      ]
     },
     "execution_count": 22,
     "metadata": {},
     "output_type": "execute_result"
    }
   ],
   "source": [
    "# Find players with irregular names (3 or fewer letters or containing special chars like ?, !, /, etc.)\n",
    "irregular_pattern = r'^[A-Za-z]{1,3}$|[?!/@#$%^&*()+=\\[\\]{};:\"|<>,\\\\~`]'\n",
    "irregular_names = atp_players[atp_players['player_name'].str.contains(irregular_pattern, regex=True, na=False)]\n",
    "\n",
    "print(f\"Players with irregular names: {len(irregular_names)}\")\n",
    "irregular_names.head(20)"
   ]
  },
  {
   "cell_type": "markdown",
   "id": "3d87bf9e",
   "metadata": {},
   "source": [
    "### Export"
   ]
  },
  {
   "cell_type": "code",
   "execution_count": null,
   "id": "010514f3",
   "metadata": {},
   "outputs": [],
   "source": [
    "atp_players.to_csv('./data/Players/ATP_Players_Cleaned.csv')"
   ]
  }
 ],
 "metadata": {
  "kernelspec": {
   "display_name": "Python 3",
   "language": "python",
   "name": "python3"
  },
  "language_info": {
   "codemirror_mode": {
    "name": "ipython",
    "version": 3
   },
   "file_extension": ".py",
   "mimetype": "text/x-python",
   "name": "python",
   "nbconvert_exporter": "python",
   "pygments_lexer": "ipython3",
   "version": "3.12.10"
  }
 },
 "nbformat": 4,
 "nbformat_minor": 5
}
